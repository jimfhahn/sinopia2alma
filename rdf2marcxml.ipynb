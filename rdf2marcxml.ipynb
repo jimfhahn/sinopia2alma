{
 "cells": [
  {
   "cell_type": "markdown",
   "metadata": {},
   "source": [
    "## Generate MARCXML based on the Library of Congress BIBFRAME2MARC mapping"
   ]
  },
  {
   "cell_type": "code",
   "execution_count": null,
   "metadata": {},
   "outputs": [],
   "source": [
    "%pip install rdflib\n",
    "%pip install lxml\n",
    "%pip install requests\n",
    "%pip install saxonche"
   ]
  },
  {
   "cell_type": "markdown",
   "metadata": {},
   "source": [
    "## Replace the URI with your Instance URI from Sinopia\n"
   ]
  },
  {
   "cell_type": "code",
   "execution_count": 2,
   "metadata": {},
   "outputs": [],
   "source": [
    "# replace uri with the Instance uri of the resource you want to convert\n",
    "uri = \"https://api.stage.sinopia.io/resource/01a226e9-ed48-4185-ad77-94c1723a3fec\"\n",
    "\n",
    "from saxonche import PySaxonProcessor\n",
    "import lxml.etree as ET\n",
    "from marc_xml.lc_bfxml_work import lc_bfxml_work, remove_last_line\n",
    "from marc_xml.lc_bfxml_instance import lc_bfxml_instance, remove_rdf_header\n"
   ]
  },
  {
   "cell_type": "markdown",
   "metadata": {},
   "source": [
    "## Generate a combined LoC RDF Work and Instance file"
   ]
  },
  {
   "cell_type": "code",
   "execution_count": null,
   "metadata": {},
   "outputs": [],
   "source": [
    "def rdf2marcxml(instance_uri):\n",
    "    # quality check the file\n",
    "    if instance_uri is None:\n",
    "        raise ValueError(\"No data received\")\n",
    "        \n",
    "    lc_bfxml_work(instance_uri)  \n",
    "    remove_last_line() \n",
    "    lc_bfxml_instance(instance_uri) \n",
    "    remove_rdf_header() \n",
    "    \n",
    "    # combine the two files, work first\n",
    "    with open(\"bfxml_work.xml\", \"r\") as work_file:\n",
    "        work = work_file.read()\n",
    "    with open(\"lc_bfxml_instance.xml\", \"r\") as instance_file:\n",
    "        instance = instance_file.read()\n",
    "    \n",
    "    # save as a file\n",
    "    with open(\"LoC_Work_Instance.xml\", \"w\") as combined_file:\n",
    "        combined_file.write(work + instance)\n",
    "\n",
    "    # add the sinopiabf namespace to the combined file\n",
    "    with open(\"LoC_Work_Instance.xml\", \"r\") as file:\n",
    "        filedata = file.read()\n",
    "    filedata = filedata.replace('<rdf:RDF', '<rdf:RDF xmlns:sinopiabf=\"http://sinopia.io/vocabulary/bf/\"')\n",
    "    with open(\"LoC_Work_Instance.xml\", \"w\") as file:\n",
    "        file.write(filedata)\n",
    "\n",
    "    # apply \"pre-transform-normalize.xsl\" for normalization\n",
    "    dom = ET.parse(\"LoC_Work_Instance.xml\")\n",
    "    xslt = ET.parse(\"marc_xml/xsl/pre-transform-normalize.xsl\")\n",
    "    transform = ET.XSLT(xslt)\n",
    "    newdom = transform(dom)\n",
    "    with open(\"LoC_Work_Instance_Normalized.xml\", \"w\") as f:\n",
    "        f.write(str(newdom))    \n",
    "\n",
    "    return newdom\n",
    "\n",
    "# Call the function with an instance_uri\n",
    "newdom = rdf2marcxml(uri)\n",
    "print(newdom)"
   ]
  },
  {
   "cell_type": "markdown",
   "metadata": {},
   "source": [
    "## Generate MARCXML from the combined RDF/XML"
   ]
  },
  {
   "cell_type": "code",
   "execution_count": null,
   "metadata": {},
   "outputs": [],
   "source": [
    "# use PySaxonProcessor to appy bibframe2marc.xsl to LoC_Work_Instance_Normalized.xml\n",
    "with PySaxonProcessor(license=False) as proc:\n",
    "    xsltproc = proc.new_xslt30_processor()\n",
    "    document = proc.parse_xml(xml_file_name=\"LoC_Work_Instance_Normalized.xml\")\n",
    "    executable = xsltproc.compile_stylesheet(stylesheet_file=\"bibframe2marc.xsl\")\n",
    "    output = executable.transform_to_string(xdm_node=document)\n",
    "    #save as a file\n",
    "    with open(\"marc.xml\", \"w\") as f:\n",
    "        f.write(output)\n",
    "    print(output)\n"
   ]
  }
 ],
 "metadata": {
  "kernelspec": {
   "display_name": "Python 3",
   "language": "python",
   "name": "python3"
  },
  "language_info": {
   "codemirror_mode": {
    "name": "ipython",
    "version": 3
   },
   "file_extension": ".py",
   "mimetype": "text/x-python",
   "name": "python",
   "nbconvert_exporter": "python",
   "pygments_lexer": "ipython3",
   "version": "3.10.0"
  }
 },
 "nbformat": 4,
 "nbformat_minor": 2
}
